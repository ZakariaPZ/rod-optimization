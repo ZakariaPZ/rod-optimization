{
 "cells": [
  {
   "cell_type": "code",
   "execution_count": 1,
   "metadata": {},
   "outputs": [],
   "source": [
    "import tensorflow as tf\n",
    "import matplotlib.pyplot as plt\n",
    "import numpy as np"
   ]
  },
  {
   "cell_type": "code",
   "execution_count": 73,
   "metadata": {},
   "outputs": [],
   "source": [
    "model = tf.keras.Sequential()\n",
    "model.add(tf.keras.layers.Dense(512, activation='relu', kernel_initializer=\"uniform\"))\n",
    "# model.add(tf.keras.layers.Dense(128, activation='relu', kernel_initializer=\"uniform\"))\n",
    "# model.add(tf.keras.layers.Dense(128, activation='relu', kernel_initializer=\"uniform\"))\n",
    "# model.add(tf.keras.layers.Dense(64, activation='relu', kernel_initializer=\"uniform\"))\n",
    "model.add(tf.keras.layers.Dense(256, activation='relu', kernel_initializer=\"uniform\"))\n",
    "model.add(tf.keras.layers.Dense(32, activation='relu', kernel_initializer=\"uniform\"))\n",
    "model.add(tf.keras.layers.Dense(1, kernel_initializer=\"uniform\"))"
   ]
  },
  {
   "cell_type": "code",
   "execution_count": 74,
   "metadata": {},
   "outputs": [],
   "source": [
    "class MLP(tf.keras.Model):\n",
    "    def __init__(self, train_params):\n",
    "        super().__init__()\n",
    "        self.L1 = tf.keras.layers.Dense(512, activation='relu', kernel_initializer=\"uniform\")\n",
    "        self.L2 = tf.keras.layers.Dense(256, activation='relu', kernel_initializer=\"uniform\")\n",
    "        self.L3 = tf.keras.layers.Dense(32, activation='relu', kernel_initializer=\"uniform\")\n",
    "\n",
    "        self.OutputLayer = tf.keras.layers.Dense(1, kernel_initializer=\"uniform\")\n",
    "        self.trainInputs = tf.constant(train_params.numpy())\n",
    "    \n",
    "    def updt(self, x, model):\n",
    "        #Tensorflow uses deferrred initialization, so first run the model to create the input shape\n",
    "        self(x)\n",
    "        #Get model weights (which are set as the weights of the dense layer - self.DenseLayer)\n",
    "        self.set_weights(model.get_weights())\n",
    "        #Freeze the set weights \n",
    "        self.L1.trainable = False\n",
    "        self.L2.trainable = False\n",
    "        self.L3.trainable = False\n",
    "        self.OutputLayer.trainable = False\n",
    "        #Set the trainInputs attribute to trainable - it is not exactly a part of the neural network here, but rather just the input\n",
    "        self.trainInputs = tf.Variable(x.numpy(), trainable=True)\n",
    "    \n",
    "    def call(self, x_dummy):\n",
    "        #x_dummy is not used, but it's needed to use the .call(x) method\n",
    "    \n",
    "        #Run the model with the trainInputs as the input each time .call(x) is used\n",
    "        x = self.trainInputs\n",
    "        return self.OutputLayer(self.L3(self.L2(self.L1(x))))"
   ]
  },
  {
   "cell_type": "code",
   "execution_count": 75,
   "metadata": {},
   "outputs": [],
   "source": [
    "def generateData():\n",
    "    x1 = tf.range(0, 2, delta=0.001)\n",
    "\n",
    "    return x1\n",
    "\n",
    "x = generateData()"
   ]
  },
  {
   "cell_type": "code",
   "execution_count": 76,
   "metadata": {},
   "outputs": [],
   "source": [
    "TL = 100.0\n",
    "T0 = 200.0\n",
    "h = 100.0\n",
    "k = 400.0\n",
    "L = 2.0\n",
    "d = 0.2\n",
    "r = d/2\n",
    "P = 2*np.pi*(r)\n",
    "Tinf = 20.0\n",
    "Ac = np.pi*(r**2)\n",
    "m = np.sqrt(h*P/(k*Ac));\n",
    "\n",
    "def genFunc(x):\n",
    "    return -1*(((TL - Tinf)/(T0-Tinf)*np.sinh(m*x) + np.sinh(m*(L-x)))/np.sinh(m*L)*(T0-Tinf)+Tinf)\n",
    "\n",
    "y = genFunc(x)"
   ]
  },
  {
   "cell_type": "code",
   "execution_count": 77,
   "metadata": {},
   "outputs": [],
   "source": [
    "learning_rate = 0.0005\n",
    "opt = tf.keras.optimizers.Adam(learning_rate=learning_rate)\n",
    "model.compile(optimizer=opt, loss=tf.keras.losses.MSE)"
   ]
  },
  {
   "cell_type": "code",
   "execution_count": 78,
   "metadata": {},
   "outputs": [
    {
     "name": "stdout",
     "output_type": "stream",
     "text": [
      "Epoch 1/20\n",
      "2000/2000 [==============================] - 2s 1ms/step - loss: 1327.4395\n",
      "Epoch 2/20\n",
      "2000/2000 [==============================] - 2s 980us/step - loss: 293.7326\n",
      "Epoch 3/20\n",
      "2000/2000 [==============================] - 2s 1ms/step - loss: 87.1805\n",
      "Epoch 4/20\n",
      "2000/2000 [==============================] - 2s 972us/step - loss: 26.9830\n",
      "Epoch 5/20\n",
      "2000/2000 [==============================] - 2s 931us/step - loss: 7.0351\n",
      "Epoch 6/20\n",
      "2000/2000 [==============================] - 2s 932us/step - loss: 3.3064\n",
      "Epoch 7/20\n",
      "2000/2000 [==============================] - 2s 961us/step - loss: 1.7512\n",
      "Epoch 8/20\n",
      "2000/2000 [==============================] - 2s 985us/step - loss: 1.7437\n",
      "Epoch 9/20\n",
      "2000/2000 [==============================] - 2s 1ms/step - loss: 1.4083\n",
      "Epoch 10/20\n",
      "2000/2000 [==============================] - 2s 1ms/step - loss: 0.9389\n",
      "Epoch 11/20\n",
      "2000/2000 [==============================] - 2s 1ms/step - loss: 1.0999\n",
      "Epoch 12/20\n",
      "2000/2000 [==============================] - 2s 800us/step - loss: 1.5831\n",
      "Epoch 13/20\n",
      "2000/2000 [==============================] - 2s 828us/step - loss: 0.8983\n",
      "Epoch 14/20\n",
      "2000/2000 [==============================] - 2s 954us/step - loss: 0.8087\n",
      "Epoch 15/20\n",
      "2000/2000 [==============================] - 3s 2ms/step - loss: 1.6731\n",
      "Epoch 16/20\n",
      "2000/2000 [==============================] - 2s 1ms/step - loss: 0.8359\n",
      "Epoch 17/20\n",
      "2000/2000 [==============================] - 2s 1ms/step - loss: 0.9644\n",
      "Epoch 18/20\n",
      "2000/2000 [==============================] - 3s 1ms/step - loss: 0.8835\n",
      "Epoch 19/20\n",
      "2000/2000 [==============================] - 2s 1ms/step - loss: 0.8936\n",
      "Epoch 20/20\n",
      "2000/2000 [==============================] - 2s 901us/step - loss: 1.1519\n"
     ]
    },
    {
     "data": {
      "text/plain": [
       "<tensorflow.python.keras.callbacks.History at 0x288a296fa90>"
      ]
     },
     "execution_count": 78,
     "metadata": {},
     "output_type": "execute_result"
    }
   ],
   "source": [
    "model.fit(x, y, epochs = 20, batch_size=1)"
   ]
  },
  {
   "cell_type": "code",
   "execution_count": 48,
   "metadata": {},
   "outputs": [],
   "source": [
    "#Test prediction \n",
    "pred = model(np.array([[1.18]]))"
   ]
  },
  {
   "cell_type": "code",
   "execution_count": 49,
   "metadata": {},
   "outputs": [],
   "source": [
    "yVal = ((TL - Tinf)/(T0-Tinf)*np.sinh(m*1.18) + np.sinh(m*(L-1.18)))/np.sinh(m*L)*(T0-Tinf)+Tinf"
   ]
  },
  {
   "cell_type": "code",
   "execution_count": 50,
   "metadata": {},
   "outputs": [
    {
     "name": "stdout",
     "output_type": "stream",
     "text": [
      "The percent true error in this prediction is 0.073217325%.\n"
     ]
    }
   ],
   "source": [
    "err = abs(yVal - (-1*pred))/yVal*100\n",
    "print('The percent true error in this prediction is ' + str(err.numpy()[0][0]) + '%.')"
   ]
  },
  {
   "cell_type": "code",
   "execution_count": 51,
   "metadata": {},
   "outputs": [],
   "source": [
    "# Feature generation\n",
    "\n",
    "def plotComparision(x_feats, model):\n",
    "    #reassign the ith dimension/feature\n",
    "#     feats = tf.reshape(tf.range(-1, 1, 0.002), shape=(1000, 1))\n",
    "#     x_feats = tf.concat(feats, 1)\n",
    "    x_feats = tf.reshape(x_feats, shape=(2000, 1))\n",
    "    plt.plot(x_feats, genFunc(x_feats))\n",
    "    plt.plot(x_feats, model(x_feats))"
   ]
  },
  {
   "cell_type": "code",
   "execution_count": 52,
   "metadata": {},
   "outputs": [
    {
     "data": {
      "image/png": "[encoded data removed]",
      "text/plain": [
       "<Figure size 432x288 with 1 Axes>"
      ]
     },
     "metadata": {
      "needs_background": "light"
     },
     "output_type": "display_data"
    }
   ],
   "source": [
    "#Fairly good agreement between model and true function, except for a deviation at the end\n",
    "plotComparision(x, model)"
   ]
  },
  {
   "cell_type": "code",
   "execution_count": 53,
   "metadata": {},
   "outputs": [
    {
     "name": "stdout",
     "output_type": "stream",
     "text": [
      "Model: \"sequential_2\"\n",
      "_________________________________________________________________\n",
      "Layer (type)                 Output Shape              Param #   \n",
      "=================================================================\n",
      "dense_8 (Dense)              (None, 512)               1024      \n",
      "_________________________________________________________________\n",
      "dense_9 (Dense)              (None, 256)               131328    \n",
      "_________________________________________________________________\n",
      "dense_10 (Dense)             (None, 32)                8224      \n",
      "_________________________________________________________________\n",
      "dense_11 (Dense)             (None, 1)                 33        \n",
      "=================================================================\n",
      "Total params: 140,609\n",
      "Trainable params: 140,609\n",
      "Non-trainable params: 0\n",
      "_________________________________________________________________\n"
     ]
    }
   ],
   "source": [
    "model.summary()"
   ]
  },
  {
   "cell_type": "code",
   "execution_count": 54,
   "metadata": {},
   "outputs": [],
   "source": [
    "#Initialize model\n",
    "optimizationModel = MLP(tf.random.uniform(shape=(1, 1), minval=0, maxval=2))\n",
    "optimizationModel.updt(tf.random.uniform(shape=(1, 1), minval=0, maxval=2), model)"
   ]
  },
  {
   "cell_type": "code",
   "execution_count": 55,
   "metadata": {},
   "outputs": [
    {
     "data": {
      "text/plain": [
       "[<tf.Variable 'Variable:0' shape=(1, 1) dtype=float32, numpy=array([[1.5716479]], dtype=float32)>]"
      ]
     },
     "execution_count": 55,
     "metadata": {},
     "output_type": "execute_result"
    }
   ],
   "source": [
    "#Trainable variable is the distance along the rod \n",
    "optimizationModel.trainable_variables"
   ]
  },
  {
   "cell_type": "code",
   "execution_count": 58,
   "metadata": {},
   "outputs": [
    {
     "data": {
      "text/plain": [
       "<tf.Tensor: shape=(1, 1), dtype=float32, numpy=array([[54.97818]], dtype=float32)>"
      ]
     },
     "execution_count": 58,
     "metadata": {},
     "output_type": "execute_result"
    }
   ],
   "source": [
    "model(optimizationModel.trainable_variables[0].numpy())*-1"
   ]
  },
  {
   "cell_type": "code",
   "execution_count": 60,
   "metadata": {},
   "outputs": [
    {
     "data": {
      "text/plain": [
       "array([[-55.244846]], dtype=float32)"
      ]
     },
     "execution_count": 60,
     "metadata": {},
     "output_type": "execute_result"
    }
   ],
   "source": [
    "genFunc(optimizationModel.trainable_variables[0].numpy())"
   ]
  },
  {
   "cell_type": "code",
   "execution_count": 62,
   "metadata": {},
   "outputs": [],
   "source": [
    "means = tf.reshape(tf.reduce_mean(x, axis=0), shape=(1, 1))\n",
    "stds = tf.reshape(tf.math.reduce_std(x, axis=0), shape=(1, 1))"
   ]
  },
  {
   "cell_type": "code",
   "execution_count": 63,
   "metadata": {},
   "outputs": [],
   "source": [
    "x = np.reshape(x, (x.shape[0], 1))"
   ]
  },
  {
   "cell_type": "code",
   "execution_count": 68,
   "metadata": {},
   "outputs": [],
   "source": [
    "#Custom losses defined here\n",
    "\n",
    "#First custom loss yields the maximum of the reflected curve (i.e. a maximumm in the original curve)\n",
    "#Second custom loss searches for a particular value \n",
    "#Third custom loss prevents the algorithm from extrapolating past the physical boundaries of the rod \n",
    "\n",
    "def minimizationLoss(y_dummy, y_pred):\n",
    "    result = tf.cond(y_pred <= tf.constant([0.0]), lambda : -10*y_pred + 1, lambda : 1/(tf.square(y_pred) + 1))\n",
    "    return result\n",
    "\n",
    "def searchLoss(y_dummy, y_pred):\n",
    "    return tf.square(y_pred+120)\n",
    "#     return tf.sqrt(y_pred)\n",
    "\n",
    "def extrapolationLoss(weights):\n",
    "    \n",
    "    mask1 = weights < tf.zeros((1,1)) + 0.01\n",
    "    mask2 = weights > tf.zeros((1,1)) + 1.99\n",
    "    masked_loss = tf.boolean_mask(weights, tf.logical_or(mask1, mask2))\n",
    "    \n",
    "    return tf.reduce_sum((tf.exp(masked_loss)))*100\n",
    "    "
   ]
  },
  {
   "cell_type": "code",
   "execution_count": 69,
   "metadata": {},
   "outputs": [],
   "source": [
    "#In this case, the minimizationLoss is not added as we are searching for a particular value \n",
    "\n",
    "opt = tf.keras.optimizers.Adam(learning_rate=0.005)\n",
    "optimizationModel.compile(optimizer=opt, loss=searchLoss)\n",
    "\n",
    "optimizationModel.add_loss(\n",
    "    lambda : extrapolationLoss(optimizationModel.trainable_variables)\n",
    ")"
   ]
  },
  {
   "cell_type": "code",
   "execution_count": 70,
   "metadata": {},
   "outputs": [
    {
     "name": "stdout",
     "output_type": "stream",
     "text": [
      "Epoch 1/5\n",
      "2000/2000 [==============================] - 1s 692us/step - loss: 1853.8198\n",
      "Epoch 2/5\n",
      "2000/2000 [==============================] - 1s 666us/step - loss: 1853.6794\n",
      "Epoch 3/5\n",
      "2000/2000 [==============================] - 1s 699us/step - loss: 1853.6794\n",
      "Epoch 4/5\n",
      "2000/2000 [==============================] - 1s 677us/step - loss: 1853.6794\n",
      "Epoch 5/5\n",
      "2000/2000 [==============================] - 1s 687us/step - loss: 1853.6794\n"
     ]
    },
    {
     "data": {
      "text/plain": [
       "<tensorflow.python.keras.callbacks.History at 0x288a28310b8>"
      ]
     },
     "execution_count": 70,
     "metadata": {},
     "output_type": "execute_result"
    }
   ],
   "source": [
    "optimizationModel.fit(tf.convert_to_tensor(x), tf.convert_to_tensor(y), epochs = 5, batch_size=1)"
   ]
  },
  {
   "cell_type": "code",
   "execution_count": 71,
   "metadata": {},
   "outputs": [
    {
     "name": "stdout",
     "output_type": "stream",
     "text": [
      "Distance of 120°C is 2.1381943m\n"
     ]
    }
   ],
   "source": [
    "print('Distance of 120°C is ' + str(optimizationModel.trainable_variables[0].numpy()[0][0]) + 'm')"
   ]
  },
  {
   "cell_type": "code",
   "execution_count": 72,
   "metadata": {},
   "outputs": [],
   "source": [
    "# print('Minimum temperature is ' + str(model(optimizationModel.trainable_variables[0].numpy()).numpy()[0][0]*-1) + '°C')"
   ]
  },
  {
   "cell_type": "code",
   "execution_count": 272,
   "metadata": {},
   "outputs": [
    {
     "data": {
      "text/plain": [
       "<tf.Tensor: shape=(1, 1), dtype=float32, numpy=array([[-46.064125]], dtype=float32)>"
      ]
     },
     "execution_count": 272,
     "metadata": {},
     "output_type": "execute_result"
    }
   ],
   "source": [
    "model(np.array([[1.18]]))"
   ]
  },
  {
   "cell_type": "code",
   "execution_count": 270,
   "metadata": {},
   "outputs": [],
   "source": [
    "yVal = ((TL - Tinf)/(T0-Tinf)*np.sinh(m*1.18) + np.sinh(m*(L-1.18)))/np.sinh(m*L)*(T0-Tinf)+Tinf"
   ]
  },
  {
   "cell_type": "code",
   "execution_count": 271,
   "metadata": {},
   "outputs": [
    {
     "data": {
      "text/plain": [
       "45.26015306912875"
      ]
     },
     "execution_count": 271,
     "metadata": {},
     "output_type": "execute_result"
    }
   ],
   "source": [
    "yVal"
   ]
  },
  {
   "cell_type": "code",
   "execution_count": null,
   "metadata": {},
   "outputs": [],
   "source": []
  }
 ],
 "metadata": {
  "kernelspec": {
   "display_name": "Python 3",
   "language": "python",
   "name": "python3"
  },
  "language_info": {
   "codemirror_mode": {
    "name": "ipython",
    "version": 3
   },
   "file_extension": ".py",
   "mimetype": "text/x-python",
   "name": "python",
   "nbconvert_exporter": "python",
   "pygments_lexer": "ipython3",
   "version": "3.7.3"
  }
 },
 "nbformat": 4,
 "nbformat_minor": 4
}
